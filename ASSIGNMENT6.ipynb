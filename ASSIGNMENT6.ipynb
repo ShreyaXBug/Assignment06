{
  "nbformat": 4,
  "nbformat_minor": 0,
  "metadata": {
    "colab": {
      "provenance": []
    },
    "kernelspec": {
      "name": "python3",
      "display_name": "Python 3"
    },
    "language_info": {
      "name": "python"
    }
  },
  "cells": [
    {
      "cell_type": "code",
      "execution_count": null,
      "metadata": {
        "id": "v0n0fzgclXwU"
      },
      "outputs": [],
      "source": []
    },
    {
      "cell_type": "markdown",
      "source": [
        "##Question 1 : Explain what the forEach method does in JavaScript arrays and write code\n",
        "that uses forEach to display each student's name from an array of student objects to the console.\n",
        "// Array of student objects\n",
        "const students = [\n",
        "{ name: \"Rahul\", age: 20 },\n",
        "{ name: \"Priya\", age: 19 },\n",
        "{ name: \"Amit\", age: 21 },\n",
        "{ name: \"Sneha\", age: 20 }\n",
        "];\n",
        "\n",
        "   -----> The forEach() method is used to itereate over an array. it executes provided function once for each element.\n",
        "   \n"
      ],
      "metadata": {
        "id": "iBi-AKc0ljCo"
      }
    },
    {
      "cell_type": "code",
      "source": [
        "const students =  [\n",
        "{ name: \"Rahul\", age: 20 },\n",
        "{ name: \"Priya\", age: 19 },\n",
        "{ name: \"Amit\", age: 21 },\n",
        "{ name: \"Sneha\", age: 20 }\n",
        "];\n",
        "students.forEach(function(student) {\n",
        "  console.log(student.name);\n",
        "});"
      ],
      "metadata": {
        "id": "geaNUE1_mA2-"
      },
      "execution_count": null,
      "outputs": []
    },
    {
      "cell_type": "markdown",
      "source": [
        "##Question 2 : You have an array of product prices in rupees. Write code using the map method to create a new array that contains the same prices but with 18% GST added to each price.\n",
        "const originalPrices = [100, 250, 500, 750, 1000];"
      ],
      "metadata": {
        "id": "sD-MPg9rnjF3"
      }
    },
    {
      "cell_type": "code",
      "source": [
        "\n",
        "const originalPrices = [100, 250, 500, 750, 1000];\n",
        "\n",
        "// Using map to calculate GST price (example: 18% GST)\n",
        "let price_gst = originalPrices.map((elem) => {\n",
        "    return elem + elem * 0.18; // Adds 18% GST\n",
        "});\n",
        "\n",
        "console.log(price_gst);\n"
      ],
      "metadata": {
        "id": "l84L6qxRnuSc"
      },
      "execution_count": null,
      "outputs": []
    },
    {
      "cell_type": "markdown",
      "source": [
        "##Question 3 : A school wants to find all students who scored more than 80 marks in their exam. The following code has an error that prevents it from working correctly. Fix the code and explain what was wrong.\n",
        "const students = [\n",
        " { name: \"Raj\", marks: 85 },\n",
        " { name: \"Sita\", marks: 92 },\n",
        " { name: \"Vikram\", marks: 78 },\n",
        " { name: \"Meera\", marks: 88 }\n",
        "];\n",
        "const topStudents = students.filter(student => {\n",
        " student.marks > 80;\n",
        "});"
      ],
      "metadata": {
        "id": "EBc7zjSbozf0"
      }
    },
    {
      "cell_type": "markdown",
      "source": [
        "------> In this code, filter() method always retuen array based on true or false condition, so the return keyword was missing in this code snippet"
      ],
      "metadata": {
        "id": "_UoWIz_DpxyN"
      }
    },
    {
      "cell_type": "code",
      "source": [
        "const students = [\n",
        " { name: \"Raj\", marks: 85 },\n",
        " { name: \"Sita\", marks: 92 },\n",
        " { name: \"Vikram\", marks: 78 },\n",
        " { name: \"Meera\", marks: 88 }\n",
        "];\n",
        "const topStudents = students.filter(students => {\n",
        "return students.marks > 80;\n",
        "});\n",
        "\n",
        "console.log(topStudents);"
      ],
      "metadata": {
        "id": "UXaHt5kUpvmq"
      },
      "execution_count": null,
      "outputs": []
    },
    {
      "cell_type": "markdown",
      "source": [
        "##Question 4 : Write code using the find method to locate a book with the title \"Harry Potter\" from an array of book objects. If the book is found, display its author name,otherwise display \"Book not found\".\n",
        "// Array of book objects\n",
        "const books = [\n",
        "{ title: \"Gitanjali\", author: \"Rabindranath Tagore\" },\n",
        "{ title: \"Harry Potter\", author: \"J.K. Rowling\" },\n",
        "{ title: \"The God of Small Things\", author: \"Arundhati Roy\" },\n",
        "{ title: \"Midnight's Children\", author: \"Salman Rushdie\" }\n",
        "];\n"
      ],
      "metadata": {
        "id": "8ESD_HcSqAcx"
      }
    },
    {
      "cell_type": "code",
      "source": [
        "const books = [\n",
        "{ title: \"Gitanjali\", author: \"Rabindranath Tagore\" },\n",
        "{ title: \"Harry Potter\", author: \"J.K. Rowling\" },\n",
        "{ title: \"The God of Small Things\", author: \"Arundhati Roy\" },\n",
        "{ title: \"Midnight's Children\", author: \"Salman Rushdie\" }\n",
        "];\n",
        "\n",
        "let a = books.find(book =>\n",
        "    book.title === \"Harry Potter\" ) ;\n",
        "    if(a){\n",
        "        console.log(a.author);\n",
        "    }\n",
        "    else{\n",
        "        console.log(\"Book not found\");\n",
        "    }"
      ],
      "metadata": {
        "id": "ElC8nQO4rpEM"
      },
      "execution_count": null,
      "outputs": []
    },
    {
      "cell_type": "markdown",
      "source": [
        "##Question 5 : Explain how the sort method works in JavaScript and write code to sort an array of employee objects by their salary in descending order (highest salary first).\n",
        "// Array of employee objects\n",
        "const employees = [\n",
        " { name: \"Rajesh\", salary: 45000 },\n",
        " { name: \"Priya\", salary: 55000 },\n",
        " { name: \"Amit\", salary: 40000 },\n",
        " { name: \"Kavya\", salary: 60000 }\n",
        "];\n",
        "\n",
        "---------> The sort() method is used to arrange elements of an array in order.\n",
        "\n",
        "By default, it converts elements to strings and sorts them lexicographically (alphabetically).\n",
        "\n",
        "To sort numbers or objects properly, we pass a compare function.\n"
      ],
      "metadata": {
        "id": "osh1geZmrqP9"
      }
    },
    {
      "cell_type": "code",
      "source": [
        "// Array of employee objects\n",
        "const employees = [\n",
        "  { name: \"Rajesh\", salary: 45000 },\n",
        "  { name: \"Priya\", salary: 55000 },\n",
        "  { name: \"Amit\", salary: 40000 },\n",
        "  { name: \"Kavya\", salary: 60000 }\n",
        "];\n",
        "\n",
        "// Sorting by salary in descending order\n",
        "employees.sort((a, b) => b.salary - a.salary);\n",
        "\n",
        "console.log(employees);\n"
      ],
      "metadata": {
        "id": "ziwec-tyr-s0"
      },
      "execution_count": null,
      "outputs": []
    },
    {
      "cell_type": "markdown",
      "source": [
        "##Question 6 : Write code using the reduce method to calculate the total value of all items in a shopping cart. Each item has a price and quantity. Also find the most expensive single item in the cart.\n",
        "// Shopping cart with items\n",
        "const cart = [\n",
        "{ name: \"Laptop\", price: 50000, quantity: 1 },\n",
        "{ name: \"Mouse\", price: 500, quantity: 2 },\n",
        "{ name: \"Keyboard\", price: 1500, quantity: 1 },\n",
        "{ name: \"Monitor\", price: 15000, quantity: 1 }\n",
        "];"
      ],
      "metadata": {
        "id": "SuOmkSL6sBkJ"
      }
    },
    {
      "cell_type": "markdown",
      "source": [
        "// Shopping cart with items\n",
        "const cart = [\n",
        "  { name: \"Laptop\", price: 50000, quantity: 1 },\n",
        "  { name: \"Mouse\", price: 500, quantity: 2 },\n",
        "  { name: \"Keyboard\", price: 1500, quantity: 1 },\n",
        "  { name: \"Monitor\", price: 15000, quantity: 1 }\n",
        "];\n",
        "\n",
        "// 1. Total cart value using reduce\n",
        "const totalValue = cart.reduce((total, item) => {\n",
        "  return total + (item.price * item.quantity);\n",
        "}, 0);\n",
        "\n",
        "// 2. Most expensive single item\n",
        "const mostExpensive = cart.reduce((prev, current) => {\n",
        "  return (current.price > prev.price) ? current : prev;\n",
        "});\n",
        "\n",
        "console.log(\"Total Cart Value:\", totalValue);\n",
        "console.log(\"Most Expensive Item:\", mostExpensive.name, \"with price\", mostExpensive.price);\n"
      ],
      "metadata": {
        "id": "NcvDbi-WsNZZ"
      }
    },
    {
      "cell_type": "markdown",
      "source": [
        "##Question 7 : Explain what array destructuring is and write code that extracts the first\n",
        "two colors from an array of colors into separate variables using destructuring.\n",
        "// Array of colors\n",
        "const colors = [\"red\", \"blue\", \"green\", \"yellow\", \"purple\"];\n",
        "\n",
        "-----------> Array destructuring is a feature in JavaScript that allows you to unpack values from arrays into individual variables in a simple way.\n",
        "\n",
        "Instead of accessing elements one by one using indexes (colors[0], colors[1]), we can directly assign them using bracket syntax."
      ],
      "metadata": {
        "id": "IL7A2i3GsObA"
      }
    },
    {
      "cell_type": "code",
      "source": [
        "// Array of colors\n",
        "const colors = [\"red\", \"blue\", \"green\", \"yellow\", \"purple\"];\n",
        "\n",
        "// Destructuring first two colors\n",
        "const [firstColor, secondColor] = colors;\n",
        "\n",
        "console.log(\"First Color:\", firstColor);\n",
        "console.log(\"Second Color:\", secondColor);\n"
      ],
      "metadata": {
        "id": "CAz75c08sg0W"
      },
      "execution_count": null,
      "outputs": []
    },
    {
      "cell_type": "markdown",
      "source": [
        "##Question 8 : You have a student object with name, age, and marks properties. Write code using object destructuring to extract these values into separate variables and also rename the marks property to score while destructuring.\n",
        "// Student object\n",
        "const student = {\n",
        "name: \"Arjun\",\n",
        "age: 20,\n",
        "marks: 85,\n",
        "city: \"Mumbai\"\n",
        "};"
      ],
      "metadata": {
        "id": "gN9zZozNskPo"
      }
    },
    {
      "cell_type": "code",
      "source": [
        "// Student object\n",
        "const student = {\n",
        "  name: \"Arjun\",\n",
        "  age: 20,\n",
        "  marks: 85,\n",
        "  city: \"Mumbai\"\n",
        "};\n",
        "\n",
        "// Object destructuring with renaming\n",
        "const { name, age, marks: score } = student;\n",
        "\n",
        "console.log(\"Name:\", name);\n",
        "console.log(\"Age:\", age);\n",
        "console.log(\"Score:\", score);\n"
      ],
      "metadata": {
        "id": "LoJBpdYtt2LS"
      },
      "execution_count": null,
      "outputs": []
    },
    {
      "cell_type": "markdown",
      "source": [
        "##Question 9 : Write a function called calculateTotal that can accept any number of prices as arguments and returns their sum. Use the rest operator to handle the variable number of parameters.\n"
      ],
      "metadata": {
        "id": "YdR2mmsFt3dh"
      }
    },
    {
      "cell_type": "code",
      "source": [
        "// Function using rest operator\n",
        "function calculateTotal(...prices) {\n",
        "  return prices.reduce((total, price) => total + price, 0);\n",
        "}\n",
        "\n",
        "// Test the function\n",
        "console.log(calculateTotal(100, 200, 300));   // 600\n",
        "console.log(calculateTotal(50, 75));          // 125\n",
        "console.log(calculateTotal(1000, 500, 250));  // 1750\n"
      ],
      "metadata": {
        "id": "y27tV67suGQ-"
      },
      "execution_count": null,
      "outputs": []
    },
    {
      "cell_type": "markdown",
      "source": [
        "##Question 10 : You have two arrays of student names and need to create a new array that contains all students from both arrays. Also, you have two objects representing a student's basic info and marks. Write code using the spread operator to solve both scenarios.\n",
        "const classA = [\"Rahul\", \"Priya\", \"Amit\"];\n",
        "const classB = [\"Sneha\", \"Vikram\", \"Pooja\"];"
      ],
      "metadata": {
        "id": "b5tSSa3IuHVt"
      }
    },
    {
      "cell_type": "code",
      "source": [
        "const classA = [\"Rahul\", \"Priya\", \"Amit\"];\n",
        "const classB = [\"Sneha\", \"Vikram\", \"Pooja\"];\n",
        "\n",
        "// 1. Merge two arrays using spread operator\n",
        "const allStudents = [...classA, ...classB];\n",
        "console.log(\"All Students:\", allStudents);\n",
        "\n",
        "// 2. Merge two objects\n",
        "const studentInfo = { name: \"Arjun\", age: 20 };\n",
        "const studentMarks = { math: 90, science: 85 };\n",
        "\n",
        "const student = { ...studentInfo, ...studentMarks };\n",
        "console.log(\"Student Details:\", student);\n"
      ],
      "metadata": {
        "id": "4PBk3q-luRof"
      },
      "execution_count": null,
      "outputs": []
    }
  ]
}